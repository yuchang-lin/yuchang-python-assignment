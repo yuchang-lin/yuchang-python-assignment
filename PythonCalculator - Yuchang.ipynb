{
 "cells": [
  {
   "cell_type": "code",
   "execution_count": 2,
   "id": "277940ba",
   "metadata": {},
   "outputs": [
    {
     "name": "stdout",
     "output_type": "stream",
     "text": [
      "apple\n",
      "bananas\n",
      "cantelopes\n",
      "dates\n",
      "figs\n",
      "grapes\n",
      "tangerines\n",
      "watermelon\n",
      "avocado\n",
      "strawberries\n"
     ]
    }
   ],
   "source": [
    "# 1) Iterate through list and print the key \n",
    "\n",
    "fruit_basket = {'apple': 1, 'bananas': 2, 'cantelopes': 3, 'dates': 4, 'figs': 5, 'grapes': 6, 'tangerines': 7, 'watermelon': 8, 'avocado': 9, 'strawberries': 10}\n",
    "\n",
    "for key in fruit_basket:\n",
    "    print(key)"
   ]
  },
  {
   "cell_type": "code",
   "execution_count": 3,
   "id": "1dd889cf",
   "metadata": {},
   "outputs": [
    {
     "name": "stdout",
     "output_type": "stream",
     "text": [
      "1\n",
      "2\n",
      "3\n",
      "4\n",
      "5\n",
      "6\n",
      "7\n",
      "8\n",
      "9\n",
      "10\n"
     ]
    }
   ],
   "source": [
    "# 2) Iterate through list and print the value \n",
    "fruit_basket = {'apple': 1, 'bananas': 2, 'cantelopes': 3, 'dates': 4, 'figs': 5, 'grapes': 6, 'tangerines': 7, 'watermelon': 8, 'avocado': 9, 'strawberries': 10}\n",
    "\n",
    "for value in fruit_basket.values():\n",
    "    print(value)"
   ]
  },
  {
   "cell_type": "code",
   "execution_count": 5,
   "id": "56babdda",
   "metadata": {},
   "outputs": [
    {
     "name": "stdout",
     "output_type": "stream",
     "text": [
      "Sum of fruits: 55\n"
     ]
    }
   ],
   "source": [
    "# 3) Find sum of all the fruit \n",
    "fruit_basket = {'apple': 1, 'bananas': 2, 'cantelopes': 3, 'dates': 4, 'figs': 5, 'grapes': 6, 'tangerines': 7, 'watermelon': 8, 'avocado': 9, 'strawberries': 10}\n",
    "\n",
    "sum_of_fruits = sum(fruit_basket.values())\n",
    "print(\"Sum of fruits:\", sum_of_fruits)"
   ]
  },
  {
   "cell_type": "code",
   "execution_count": 6,
   "id": "1ceec003",
   "metadata": {},
   "outputs": [
    {
     "name": "stdout",
     "output_type": "stream",
     "text": [
      "(8, 7)\n"
     ]
    }
   ],
   "source": [
    "# 4) What is the output of the add() function call and why? \n",
    "\n",
    "\n",
    "def add(a, b):\n",
    "    return a+5, b+5\n",
    "\n",
    "result = add(3, 2)\n",
    "print(result)\n",
    "\n",
    "\n",
    "# a) 15\n",
    "# b) 8\n",
    "# c) (8, 7) \n",
    "# d) Syntax Error\n",
    "\n",
    "# C：Because a=3+5,b=2+5,(8,7)\n"
   ]
  },
  {
   "cell_type": "code",
   "execution_count": null,
   "id": "b399e95f",
   "metadata": {},
   "outputs": [],
   "source": [
    "# 5) Select the statements that are true: \n",
    "\n",
    "\n",
    "# a) A Python function can return only a single value\n",
    "# b) A function can take an unlimited number of arguments.\n",
    "# c) A Python function can return multiple values\n",
    "# d) Python function doesn’t return anything unless and until you add a return statement\n",
    "\n",
    "C"
   ]
  },
  {
   "cell_type": "code",
   "execution_count": null,
   "id": "e4b1e034",
   "metadata": {},
   "outputs": [],
   "source": [
    "# 6)Python function always returns a value\n",
    "\n",
    "# True or False and why? \n",
    "\n",
    "True Even if a function does not contain a return statement explicitly, it will still return None by default."
   ]
  },
  {
   "cell_type": "code",
   "execution_count": 7,
   "id": "aac6d51c",
   "metadata": {},
   "outputs": [
    {
     "name": "stdout",
     "output_type": "stream",
     "text": [
      "2\n"
     ]
    }
   ],
   "source": [
    "# 7) Given the nested if-else structure below, what will be the value of x after code execution completes\n",
    "\n",
    "x = 0\n",
    "a = 0\n",
    "b = -5\n",
    "if a > 0:\n",
    "    if b < 0: \n",
    "        x = x + 5 \n",
    "    elif a > 5:\n",
    "        x = x + 4\n",
    "    else:\n",
    "        x = x + 3\n",
    "else:\n",
    "    x = x + 2\n",
    "print(x)"
   ]
  },
  {
   "cell_type": "code",
   "execution_count": 9,
   "id": "d8ef3289",
   "metadata": {},
   "outputs": [
    {
     "name": "stdout",
     "output_type": "stream",
     "text": [
      "True\n"
     ]
    }
   ],
   "source": [
    "# 8) What is the output of the following if statement and why? \n",
    "\n",
    "\n",
    "a, b = 12, 5\n",
    "if a + b:\n",
    "    print('True')\n",
    "else:\n",
    "    print('False')\n",
    "\n",
    "?????????non-zero value still considered as True"
   ]
  },
  {
   "cell_type": "code",
   "execution_count": 11,
   "id": "2543e89b",
   "metadata": {},
   "outputs": [
    {
     "name": "stdout",
     "output_type": "stream",
     "text": [
      "Write something down here：i write something here\n",
      "Number of left slash in the sentence as upper:  3\n",
      "Numver of right slash in the sentence as upper:  7\n",
      "Number of horizontal line in the sentence as upper:  17\n",
      "Number of vertical line in the sentence as upper:  17\n",
      "Number of quarter arc in the sentence as upper:  15\n"
     ]
    }
   ],
   "source": [
    "#[left_slash, right_slash, horizontal, vertical, quarter_arcs]\n",
    "alphabet = {\n",
    "    \"A\": [1, 1, 1, 0, 0],\n",
    "    \"B\": [0, 0, 0, 1, 4],\n",
    "    \"C\": [0, 0, 0, 0, 3],\n",
    "    \"D\": [0, 0, 0, 1, 2],\n",
    "    \"E\": [0, 0, 3, 1, 0],\n",
    "    \"F\": [0, 0, 2, 1, 0],\n",
    "    \"G\": [0, 0, 1, 0, 3],\n",
    "    \"H\": [0, 0, 1, 2, 0],\n",
    "    \"I\": [0, 0, 0, 1, 0],\n",
    "    \"J\": [0, 0, 1, 1, 1],\n",
    "    \"K\": [1, 1, 0, 1, 0],\n",
    "    \"L\": [0, 0, 1, 1, 0],\n",
    "    \"M\": [1, 1, 0, 1, 0],\n",
    "    \"N\": [0, 1, 0, 1, 0],\n",
    "    \"O\": [0, 0, 0, 0, 4],\n",
    "    \"P\": [0, 0, 0, 1, 2],\n",
    "    \"Q\": [0, 0, 0, 0, 5],\n",
    "    \"R\": [0, 1, 0, 1, 2],\n",
    "    \"S\": [0, 1, 0, 0, 4],\n",
    "    \"T\": [0, 0, 1, 1, 0],\n",
    "    \"U\": [0, 0, 0, 2, 2],\n",
    "    \"V\": [1, 1, 0, 0, 0],\n",
    "    \"W\": [2, 2, 0, 0, 0],\n",
    "    \"X\": [1, 1, 0, 0, 0],\n",
    "    \"Y\": [1, 1, 0, 1, 0],\n",
    "    \"Z\": [1, 0, 2, 0, 0]\n",
    "}\n",
    "\n",
    "input_str= str(input(\"Write something down here：\"))\n",
    "\n",
    "# input_str = \"A bit afafdsasf fff\"\n",
    "counts = [0, 0, 0, 0, 0]  # Initialize the count of attributes to 0\n",
    "\n",
    "for char in input_str:\n",
    "        letter_counts = alphabet.get(char.upper(), [0, 0, 0, 0, 0])\n",
    "        for i in range(5):\n",
    "            counts[i] += letter_counts[i]\n",
    "            \n",
    "typ = ['Number of left slash in the sentence as upper', 'Numver of right slash in the sentence as upper', 'Number of horizontal line in the sentence as upper', 'Number of vertical line in the sentence as upper', 'Number of quarter arc in the sentence as upper']      \n",
    "for c in range(len(counts)):\n",
    "#     print ('The Structure of your sentences:')\n",
    "    print (str(typ[c]) + ':  ' + str(counts[c]))\n",
    "# print(counts)\n"
   ]
  },
  {
   "cell_type": "code",
   "execution_count": null,
   "id": "a5a42dbb",
   "metadata": {},
   "outputs": [],
   "source": []
  }
 ],
 "metadata": {
  "kernelspec": {
   "display_name": "Python 3 (ipykernel)",
   "language": "python",
   "name": "python3"
  },
  "language_info": {
   "codemirror_mode": {
    "name": "ipython",
    "version": 3
   },
   "file_extension": ".py",
   "mimetype": "text/x-python",
   "name": "python",
   "nbconvert_exporter": "python",
   "pygments_lexer": "ipython3",
   "version": "3.9.13"
  }
 },
 "nbformat": 4,
 "nbformat_minor": 5
}
