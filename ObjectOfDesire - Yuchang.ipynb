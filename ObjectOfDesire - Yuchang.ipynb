{
 "cells": [
  {
   "cell_type": "code",
   "execution_count": 20,
   "id": "d15cb4be",
   "metadata": {},
   "outputs": [],
   "source": [
    "class cat:\n",
    "    \n",
    "    species = 'Animal'\n",
    "    country = 'China'\n",
    "    familyNumber = 4\n",
    "\n",
    "    def __init__(self, color,types,hobbies,age):\n",
    "        self.color = color\n",
    "        self.types = types\n",
    "        self.hobbies = hobbies\n",
    "        self.age = age\n",
    "\n",
    "ear = cat(color = 'white & blue',types = 'British Shorthair',hobbies = 'sleep & slapping butt',age = 2)\n",
    "\n",
    "jiojio = cat(color = 'black & brown & white',types = 'Dragon-Li',hobbies = 'eat & jump & run & break everything',age = 1)\n",
    "\n",
    "bingin = cat(color = 'blue',types = 'Chartreux',hobbies = 'peeking',age = 4)\n",
    "\n",
    "gio = cat(color = 'cream-coloured in summer & brown in winter',types ='Siamese',hobbies = 'quarrel',age = 6)\n",
    "\n"
   ]
  },
  {
   "cell_type": "code",
   "execution_count": 21,
   "id": "206bccc3",
   "metadata": {},
   "outputs": [
    {
     "data": {
      "text/plain": [
       "'Chartreux'"
      ]
     },
     "execution_count": 21,
     "metadata": {},
     "output_type": "execute_result"
    }
   ],
   "source": [
    "bingin.types"
   ]
  },
  {
   "cell_type": "code",
   "execution_count": 22,
   "id": "6aa2e3b3",
   "metadata": {},
   "outputs": [
    {
     "data": {
      "text/plain": [
       "'China'"
      ]
     },
     "execution_count": 22,
     "metadata": {},
     "output_type": "execute_result"
    }
   ],
   "source": [
    "gio.country"
   ]
  },
  {
   "cell_type": "code",
   "execution_count": 24,
   "id": "12a3349a",
   "metadata": {},
   "outputs": [
    {
     "data": {
      "text/plain": [
       "4"
      ]
     },
     "execution_count": 24,
     "metadata": {},
     "output_type": "execute_result"
    }
   ],
   "source": [
    "ear.familyNumber"
   ]
  },
  {
   "cell_type": "code",
   "execution_count": 26,
   "id": "b83606a7",
   "metadata": {},
   "outputs": [
    {
     "data": {
      "text/plain": [
       "'eat & jump & run & break everything'"
      ]
     },
     "execution_count": 26,
     "metadata": {},
     "output_type": "execute_result"
    }
   ],
   "source": [
    "jiojio.hobbies"
   ]
  },
  {
   "cell_type": "code",
   "execution_count": null,
   "id": "3a3be65a",
   "metadata": {},
   "outputs": [],
   "source": []
  }
 ],
 "metadata": {
  "kernelspec": {
   "display_name": "Python 3 (ipykernel)",
   "language": "python",
   "name": "python3"
  },
  "language_info": {
   "codemirror_mode": {
    "name": "ipython",
    "version": 3
   },
   "file_extension": ".py",
   "mimetype": "text/x-python",
   "name": "python",
   "nbconvert_exporter": "python",
   "pygments_lexer": "ipython3",
   "version": "3.9.13"
  }
 },
 "nbformat": 4,
 "nbformat_minor": 5
}
