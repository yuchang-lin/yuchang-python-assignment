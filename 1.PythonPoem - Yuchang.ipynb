{
 "cells": [
  {
   "cell_type": "code",
   "execution_count": null,
   "id": "5326bd23",
   "metadata": {},
   "outputs": [],
   "source": [
    "# 1) d.error //They are different types\n",
    "# 2) b.yn\n",
    "# 3) c.maJ\n",
    "# 4) a.JamesJamesJamesJamesJamesJames"
   ]
  },
  {
   "cell_type": "code",
   "execution_count": 1,
   "id": "14de04f0",
   "metadata": {},
   "outputs": [
    {
     "data": {
      "text/plain": [
       "['apple', 'bananas']"
      ]
     },
     "execution_count": 1,
     "metadata": {},
     "output_type": "execute_result"
    }
   ],
   "source": [
    "# 5)\n",
    "sweets = ['apple','bananas','cantelopes','donut']\n",
    "sweets[0:2]"
   ]
  },
  {
   "cell_type": "code",
   "execution_count": 3,
   "id": "91301668",
   "metadata": {},
   "outputs": [],
   "source": [
    "# 6)\n",
    "room1=['gabe', 'greg']\n",
    "room2=['michelle','santa','stacey']\n",
    "room3=['adam','sam', 'melissa']\n",
    "house= [room2, room1, room3] "
   ]
  },
  {
   "cell_type": "code",
   "execution_count": 4,
   "id": "69b6a164",
   "metadata": {},
   "outputs": [
    {
     "data": {
      "text/plain": [
       "'santa'"
      ]
     },
     "execution_count": 4,
     "metadata": {},
     "output_type": "execute_result"
    }
   ],
   "source": [
    "house[0][1]"
   ]
  },
  {
   "cell_type": "code",
   "execution_count": null,
   "id": "846d4cf4",
   "metadata": {},
   "outputs": [],
   "source": [
    "# 7) False. If recipe need order?"
   ]
  },
  {
   "cell_type": "code",
   "execution_count": 2,
   "id": "49f95185",
   "metadata": {},
   "outputs": [
    {
     "data": {
      "text/plain": [
       "{'bob',\n",
       " 'chris',\n",
       " 'christina',\n",
       " 'jennifer',\n",
       " 'jessica',\n",
       " 'mary',\n",
       " 'michelle',\n",
       " 'pierre',\n",
       " 'tina'}"
      ]
     },
     "execution_count": 2,
     "metadata": {},
     "output_type": "execute_result"
    }
   ],
   "source": [
    "# 8)\n",
    "names = ['mary', 'bob', 'jessica', 'pierre', 'bob', 'jennifer', 'chris', \n",
    "         'christina', 'tina', 'mary', 'tina', 'bob', 'michelle','jennifer']\n",
    "set(names)"
   ]
  },
  {
   "cell_type": "code",
   "execution_count": null,
   "id": "835de453",
   "metadata": {},
   "outputs": [],
   "source": [
    "# 9) The = is a simple assignment operator. \n",
    "# ‘=’ assigns values from right side operands to the left side operand. \n",
    "# ‘==’ checks if the values of two operands are equal or not."
   ]
  },
  {
   "cell_type": "code",
   "execution_count": 18,
   "id": "fd12e9f5",
   "metadata": {},
   "outputs": [
    {
     "name": "stdout",
     "output_type": "stream",
     "text": [
      "THE TIME-LOST BUILDING\n",
      "\n",
      "\n",
      "BY YUCHANG LIN\n",
      "\n",
      "\n",
      "Amidst the concrete walls and stairs,\n",
      "A deterioration everywhere,\n",
      "Blackened by gas and crumbled frames\n",
      "Each floor is locked behind ancient doors,\n",
      "Rusty and stained, their twists worn.\n",
      "\n",
      "\n",
      "In the night, I walk with a girl dressed in black,\n",
      "Through the building where no one should be back.\n",
      "\n",
      "\n",
      "Sounds of tapping, footsteps, and gas,\n",
      "Synchronized with our every pass,\n",
      "As if the tenants were programmed to play,\n",
      "In a box that repeats day by day.\n",
      "\n",
      "\n",
      "The old building ticks like a clock,\n",
      "Its rich sounds never cease to mock.\n",
      "We move in time with its every swing,\n",
      "To avoid notice and walk unseen.\n",
      "\n",
      "\n",
      "As we move down to the lower floors,\n",
      "The gaps shorten, the sounds no more.\n",
      "We open and close the steel doors with care,\n",
      "In the building, only silence is there.\n",
      "\n",
      "\n",
      "Reaching the basement, a room we find,\n",
      "With shelves of paper, dusty and confined.\n",
      "A small window lets in light so blue,\n",
      "Of the moon or not, I'm not sure it's true.\n",
      "\n",
      "\n",
      "\n",
      "I was just a tool, my purpose vague,\n",
      "To assist her in her quest to engage.\n",
      "All sounds must be synced with the building's tune,\n",
      "To avoid notice and get to our room.\n",
      "\n",
      "\n",
      "But a cat with a black timer caught my eye,\n",
      "Hunting me down with a low growl, it would try.\n",
      "I fought the feline, and its timer I wrapped,\n",
      "In orange tinfoil, its growl no longer mapped.\n",
      "\n",
      "\n",
      "The girl wrapped the contents of the room,\n",
      "In perforated paper, temporally doomed.\n",
      "She took them out, as a tire did crash,\n",
      "Out of the building, with a sudden dash.\n",
      "\n",
      "\n",
      "\n",
      "And so we left, with what we have found,\n",
      "In the time-lost building, where time is bound.\n",
      "The cat is gone, the timer unwound,\n",
      "In this tale of mystery, forever entwound.\n",
      "\n",
      "\n",
      "\n",
      "\n",
      "(This poem 'THE TIME-LOST BUILDING' is my dream)\n"
     ]
    }
   ],
   "source": [
    "# 10)\n",
    "\n",
    "a = 'The Time-Lost Building'\n",
    "b =  'By Yuchang Lin'\n",
    "\n",
    "print (a.upper())\n",
    "print('\\n')\n",
    "print(b.upper())\n",
    "print('\\n')\n",
    "print('Amidst the concrete walls and stairs,')\n",
    "print('A deterioration everywhere,')\n",
    "print('Blackened by gas and crumbled frames')\n",
    "print('Each floor is locked behind ancient doors,')\n",
    "print('Rusty and stained, their twists worn.')\n",
    "print('\\n')\n",
    "print('''In the night, I walk with a girl dressed in black,\n",
    "Through the building where no one should be back.''')\n",
    "print('\\n')\n",
    "print('''Sounds of tapping, footsteps, and gas,\n",
    "Synchronized with our every pass,\n",
    "As if the tenants were programmed to play,\n",
    "In a box that repeats day by day.''')\n",
    "print('\\n')\n",
    "print('''The old building ticks like a clock,\n",
    "Its rich sounds never cease to mock.\n",
    "We move in time with its every swing,\n",
    "To avoid notice and walk unseen.''')\n",
    "print('\\n')\n",
    "print('''As we move down to the lower floors,\n",
    "The gaps shorten, the sounds no more.\n",
    "We open and close the steel doors with care,\n",
    "In the building, only silence is there.''')\n",
    "print('\\n')\n",
    "print('''Reaching the basement, a room we find,\n",
    "With shelves of paper, dusty and confined.\n",
    "A small window lets in light so blue,\n",
    "Of the moon or not, I'm not sure it's true.\n",
    "''')\n",
    "print('\\n')\n",
    "print('''I was just a tool, my purpose vague,\n",
    "To assist her in her quest to engage.\n",
    "All sounds must be synced with the building's tune,\n",
    "To avoid notice and get to our room.''')\n",
    "print('\\n')\n",
    "print('''But a cat with a black timer caught my eye,\n",
    "Hunting me down with a low growl, it would try.\n",
    "I fought the feline, and its timer I wrapped,\n",
    "In orange tinfoil, its growl no longer mapped.''')\n",
    "print('\\n')\n",
    "print('''The girl wrapped the contents of the room,\n",
    "In perforated paper, temporally doomed.\n",
    "She took them out, as a tire did crash,\n",
    "Out of the building, with a sudden dash.\n",
    "''')\n",
    "print('\\n')\n",
    "print('''And so we left, with what we have found,\n",
    "In the time-lost building, where time is bound.\n",
    "The cat is gone, the timer unwound,\n",
    "In this tale of mystery, forever entwound.''')\n",
    "print('\\n')\n",
    "print('\\n')\n",
    "print(f\"(This poem '{a.upper()}' is my dream)\")"
   ]
  },
  {
   "cell_type": "code",
   "execution_count": null,
   "id": "70578f98",
   "metadata": {},
   "outputs": [],
   "source": []
  }
 ],
 "metadata": {
  "kernelspec": {
   "display_name": "Python 3 (ipykernel)",
   "language": "python",
   "name": "python3"
  },
  "language_info": {
   "codemirror_mode": {
    "name": "ipython",
    "version": 3
   },
   "file_extension": ".py",
   "mimetype": "text/x-python",
   "name": "python",
   "nbconvert_exporter": "python",
   "pygments_lexer": "ipython3",
   "version": "3.9.13"
  }
 },
 "nbformat": 4,
 "nbformat_minor": 5
}
